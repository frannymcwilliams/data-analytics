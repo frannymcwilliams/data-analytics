{
 "cells": [
  {
   "cell_type": "markdown",
   "metadata": {},
   "source": [
    "<h1>Document Similarity using LSI</h1>"
   ]
  },
  {
   "cell_type": "markdown",
   "metadata": {},
   "source": [
    "<h4>In this assignment we’re going to practice document similarity. Here’s\n",
    "what you need to do:</h4>\n",
    "<ol>\n",
    "<li>From Wikipedia’s List of musicians page (https://en.wikipedia.org/wiki/Lists_of_musicians), pick five lists of\n",
    "musicians (e.g., List of big band musicians). You can pick any five\n",
    "you like but make sure that the list has the words “musicians” in\n",
    "it and that the list has at least 30 musicians listed\n",
    "<li>Collect the urls of all the musicians on those five pages and place them in a list\n",
    "<li>Grab the content of each musician in the list and place them in a list (of documents)\n",
    "<li>Build an LSI model using this data. This is your \"reference\" data set\n",
    "<li>Now grab another list of musicians from wikipedia and create a new list of documents using the detail from each musicians page. This is your \"musician\" data set\n",
    "<li>For each musician in the new list, find the musician in the reference data set that is the closest in similarity. \n",
    "<li>Print a table that contains each musician from the musician data set and the most similar musician from the reference data set\n",
    "</ol>\n",
    "<h4>Use the code below to build your solution"
   ]
  },
  {
   "cell_type": "markdown",
   "metadata": {},
   "source": [
    "<p><span style=\"color:blue\">get_musicians</span>: A function that, given a \"list of musicians\" url, returns a list containing the names of the musicians and the urls for their wikipedia pages\n",
    "<p>non_musician_finder tries its best to remove links that are not musician links from the page (not perfect, but good enough!)"
   ]
  },
  {
   "cell_type": "code",
   "execution_count": 1,
   "metadata": {},
   "outputs": [],
   "source": [
    "def get_musicians(url):\n",
    "    from bs4 import BeautifulSoup\n",
    "    import requests\n",
    "    page_soup = BeautifulSoup(requests.get(url).content,'lxml')\n",
    "    li_tags = page_soup.find_all('li')\n",
    "    all_musicians = list()\n",
    "    for tag in li_tags:\n",
    "        if tag.get('id'):\n",
    "            continue\n",
    "\n",
    "        try:\n",
    "            tag.find('sup',class_=\"reference\")\n",
    "            link = tag.find('a').get('href')\n",
    "            name = tag.find('a').get_text()\n",
    "            if \"/wiki/\" in link and non_musician_finder(link):\n",
    "                all_musicians.append((name,\"https://en.wikipedia.org\" + link))\n",
    "        except:\n",
    "            pass\n",
    "    return all_musicians\n",
    "\n",
    "def non_musician_finder(link):\n",
    "    non_musician_words = ['Category','Template','Portal','List','File','Template','Special','Main','Help','User']\n",
    "    for word in non_musician_words:\n",
    "        if word in link:\n",
    "            return False\n",
    "    return True"
   ]
  },
  {
   "cell_type": "markdown",
   "metadata": {},
   "source": [
    "<h4>testing the function</h4>\n",
    "<li>Note that Wikipedia does not have a standard for its page design so this code may not work with every list"
   ]
  },
  {
   "cell_type": "code",
   "execution_count": 2,
   "metadata": {},
   "outputs": [
    {
     "data": {
      "text/plain": [
       "[('16 Horsepower', 'https://en.wikipedia.org/wiki/16_Horsepower'),\n",
       " ('Ryan Adams', 'https://en.wikipedia.org/wiki/Ryan_Adams'),\n",
       " ('Jill Andrews', 'https://en.wikipedia.org/wiki/Jill_Andrews'),\n",
       " ('The Autumn Defense', 'https://en.wikipedia.org/wiki/The_Autumn_Defense'),\n",
       " ('Backyard Tire Fire', 'https://en.wikipedia.org/wiki/Backyard_Tire_Fire'),\n",
       " ('Del Barber', 'https://en.wikipedia.org/wiki/Del_Barber'),\n",
       " ('Eef Barzelay', 'https://en.wikipedia.org/wiki/Eef_Barzelay'),\n",
       " (\"Bear's Den\", 'https://en.wikipedia.org/wiki/Bear%27s_Den_(band)'),\n",
       " ('Rico Bell', 'https://en.wikipedia.org/wiki/Rico_Bell'),\n",
       " ('Blitzen Trapper', 'https://en.wikipedia.org/wiki/Blitzen_Trapper'),\n",
       " ('Blue Rodeo', 'https://en.wikipedia.org/wiki/Blue_Rodeo'),\n",
       " ('Bosque Brown', 'https://en.wikipedia.org/wiki/Bosque_Brown'),\n",
       " ('The Bottle Rockets', 'https://en.wikipedia.org/wiki/The_Bottle_Rockets'),\n",
       " ('BR549', 'https://en.wikipedia.org/wiki/BR549'),\n",
       " ('Jim Bryson', 'https://en.wikipedia.org/wiki/Jim_Bryson'),\n",
       " ('Richard Buckner',\n",
       "  'https://en.wikipedia.org/wiki/Richard_Buckner_(musician)'),\n",
       " ('Caitlin Cary', 'https://en.wikipedia.org/wiki/Caitlin_Cary'),\n",
       " ('Neko Case', 'https://en.wikipedia.org/wiki/Neko_Case'),\n",
       " ('Cross Canadian Ragweed',\n",
       "  'https://en.wikipedia.org/wiki/Cross_Canadian_Ragweed'),\n",
       " ('The Deep Dark Woods', 'https://en.wikipedia.org/wiki/The_Deep_Dark_Woods'),\n",
       " ('The Devil Makes Three',\n",
       "  'https://en.wikipedia.org/wiki/The_Devil_Makes_Three_(band)'),\n",
       " ('Tim Easton', 'https://en.wikipedia.org/wiki/Tim_Easton'),\n",
       " ('Carrie Elkin', 'https://en.wikipedia.org/wiki/Carrie_Elkin'),\n",
       " ('Elliott Brood', 'https://en.wikipedia.org/wiki/Elliott_Brood'),\n",
       " ('Alejandro Escovedo', 'https://en.wikipedia.org/wiki/Alejandro_Escovedo'),\n",
       " ('Jay Farrar', 'https://en.wikipedia.org/wiki/Jay_Farrar'),\n",
       " ('Fifth on the Floor', 'https://en.wikipedia.org/wiki/Fifth_on_the_Floor'),\n",
       " ('Rosie Flores', 'https://en.wikipedia.org/wiki/Rosie_Flores'),\n",
       " ('Freakwater', 'https://en.wikipedia.org/wiki/Freakwater'),\n",
       " ('Robbie Fulks', 'https://en.wikipedia.org/wiki/Robbie_Fulks'),\n",
       " ('Mary Gauthier', 'https://en.wikipedia.org/wiki/Mary_Gauthier'),\n",
       " ('Giant Sand', 'https://en.wikipedia.org/wiki/Giant_Sand'),\n",
       " ('Golden Smog', 'https://en.wikipedia.org/wiki/Golden_Smog'),\n",
       " ('The Gourds', 'https://en.wikipedia.org/wiki/The_Gourds'),\n",
       " ('Grievous Angels', 'https://en.wikipedia.org/wiki/Grievous_Angels'),\n",
       " ('The Guthries', 'https://en.wikipedia.org/wiki/The_Guthries'),\n",
       " ('Sarah Lee Guthrie',\n",
       "  'https://en.wikipedia.org/wiki/Sarah_Lee_Guthrie_%26_Johnny_Irion'),\n",
       " ('Hacienda Brothers', 'https://en.wikipedia.org/wiki/Hacienda_Brothers'),\n",
       " ('Wayne Hancock', 'https://en.wikipedia.org/wiki/Wayne_Hancock'),\n",
       " ('The Handsome Family', 'https://en.wikipedia.org/wiki/The_Handsome_Family'),\n",
       " ('Thomas Hansen', 'https://en.wikipedia.org/wiki/Thomas_Hansen_(musician)'),\n",
       " ('Hazeldine', 'https://en.wikipedia.org/wiki/Hazeldine_(band)'),\n",
       " ('Patterson Hood', 'https://en.wikipedia.org/wiki/Patterson_Hood'),\n",
       " ('I See Hawks In L.A.', 'https://en.wikipedia.org/wiki/I_See_Hawks_In_L.A.'),\n",
       " ('Jason Isbell', 'https://en.wikipedia.org/wiki/Jason_Isbell'),\n",
       " ('The Jayhawks', 'https://en.wikipedia.org/wiki/The_Jayhawks'),\n",
       " ('Jolene', 'https://en.wikipedia.org/wiki/Jolene_(band)'),\n",
       " ('Graham Lindsey', 'https://en.wikipedia.org/wiki/Graham_Lindsey'),\n",
       " ('The Little Willies', 'https://en.wikipedia.org/wiki/The_Little_Willies'),\n",
       " ('Lydia Loveless', 'https://en.wikipedia.org/wiki/Lydia_Loveless'),\n",
       " ('Carolyn Mark', 'https://en.wikipedia.org/wiki/Carolyn_Mark'),\n",
       " ('The Mastersons', 'https://en.wikipedia.org/wiki/The_Mastersons'),\n",
       " ('Chris Mills', 'https://en.wikipedia.org/wiki/Chris_Mills_(musician)'),\n",
       " ('Milton Mapes', 'https://en.wikipedia.org/wiki/Milton_Mapes'),\n",
       " ('Elizabeth Mitchell',\n",
       "  'https://en.wikipedia.org/wiki/Elizabeth_Mitchell_(musician)'),\n",
       " ('John Moreland', 'https://en.wikipedia.org/wiki/John_Moreland'),\n",
       " ('James McMurtry', 'https://en.wikipedia.org/wiki/James_McMurtry'),\n",
       " (\"Old 97's\", 'https://en.wikipedia.org/wiki/Old_97%27s'),\n",
       " ('Old Crow Medicine Show',\n",
       "  'https://en.wikipedia.org/wiki/Old_Crow_Medicine_Show'),\n",
       " ('Mark Olson', 'https://en.wikipedia.org/wiki/Mark_Olson_(musician)'),\n",
       " ('Lindi Ortega', 'https://en.wikipedia.org/wiki/Lindi_Ortega'),\n",
       " ('Gram Parsons', 'https://en.wikipedia.org/wiki/Gram_Parsons'),\n",
       " ('Joe Pernice', 'https://en.wikipedia.org/wiki/Joe_Pernice'),\n",
       " ('Richmond Fontaine', 'https://en.wikipedia.org/wiki/Richmond_Fontaine'),\n",
       " ('Jason Ringenberg', 'https://en.wikipedia.org/wiki/Jason_Ringenberg'),\n",
       " ('Bruce Robison', 'https://en.wikipedia.org/wiki/Bruce_Robison'),\n",
       " ('Carrie Rodriguez', 'https://en.wikipedia.org/wiki/Carrie_Rodriguez'),\n",
       " ('Roman Candle', 'https://en.wikipedia.org/wiki/Roman_Candle_(band)'),\n",
       " ('Justin Rutledge', 'https://en.wikipedia.org/wiki/Justin_Rutledge'),\n",
       " ('Matthew Ryan', 'https://en.wikipedia.org/wiki/Matthew_Ryan_(musician)'),\n",
       " ('Scud Mountain Boys', 'https://en.wikipedia.org/wiki/Scud_Mountain_Boys'),\n",
       " ('Souled American', 'https://en.wikipedia.org/wiki/Souled_American'),\n",
       " ('Split Lip Rayfield', 'https://en.wikipedia.org/wiki/Split_Lip_Rayfield'),\n",
       " ('Jesse Sykes', 'https://en.wikipedia.org/wiki/Jesse_Sykes'),\n",
       " ('Jesse Sykes & the Sweet Hereafter',\n",
       "  'https://en.wikipedia.org/wiki/Jesse_Sykes'),\n",
       " ('Tarnation', 'https://en.wikipedia.org/wiki/Tarnation_(band)'),\n",
       " (\"Three O'Clock Train\",\n",
       "  'https://en.wikipedia.org/wiki/Three_O%27Clock_Train'),\n",
       " ('Tres Chicas', 'https://en.wikipedia.org/wiki/Tres_Chicas'),\n",
       " ('Jeff Tweedy', 'https://en.wikipedia.org/wiki/Jeff_Tweedy'),\n",
       " ('Two Cow Garage', 'https://en.wikipedia.org/wiki/Two_Cow_Garage'),\n",
       " ('Ugly Casanova', 'https://en.wikipedia.org/wiki/Ugly_Casanova'),\n",
       " ('Uncle Tupelo', 'https://en.wikipedia.org/wiki/Uncle_Tupelo'),\n",
       " ('Suzie Ungerleider', 'https://en.wikipedia.org/wiki/Suzie_Ungerleider'),\n",
       " ('Townes Van Zandt', 'https://en.wikipedia.org/wiki/Townes_Van_Zandt'),\n",
       " ('The Waco Brothers', 'https://en.wikipedia.org/wiki/The_Waco_Brothers'),\n",
       " ('Water Liars', 'https://en.wikipedia.org/wiki/Water_Liars'),\n",
       " ('Whiskeytown', 'https://en.wikipedia.org/wiki/Whiskeytown'),\n",
       " ('Wilco', 'https://en.wikipedia.org/wiki/Wilco'),\n",
       " ('Kelly Willis', 'https://en.wikipedia.org/wiki/Kelly_Willis'),\n",
       " ('Larkin, Colin', 'https://en.wikipedia.org/wiki/Colin_Larkin_(writer)')]"
      ]
     },
     "execution_count": 2,
     "metadata": {},
     "output_type": "execute_result"
    }
   ],
   "source": [
    "url = \"https://en.wikipedia.org/wiki/List_of_alternative_country_musicians\"\n",
    "get_musicians(url)"
   ]
  },
  {
   "cell_type": "markdown",
   "metadata": {},
   "source": [
    "<h4>get_musician_text(url): returns the page text of the wikipedia page associated with a musician</h4>\n",
    "<li>Since we're not sure if this will always work, we use a try ... except to catch exceptions\n",
    "<li>If it doesn't work, the function returns None\n",
    "<li>We will need to delete this (musician, url) pair from our musicians list"
   ]
  },
  {
   "cell_type": "code",
   "execution_count": 3,
   "metadata": {},
   "outputs": [],
   "source": [
    "def get_musician_text(url):\n",
    "    from bs4 import BeautifulSoup\n",
    "    import requests\n",
    "    all_text = ''\n",
    "    try:\n",
    "        page_soup = BeautifulSoup(requests.get(url).content,'lxml')\n",
    "        for p_tag in page_soup.find_all('p'):\n",
    "            all_text += p_tag.get_text()\n",
    "    except:\n",
    "        return None\n",
    "    return all_text\n"
   ]
  },
  {
   "cell_type": "markdown",
   "metadata": {},
   "source": [
    "<h4>testing get_musician_text</h4>"
   ]
  },
  {
   "cell_type": "code",
   "execution_count": 4,
   "metadata": {},
   "outputs": [
    {
     "data": {
      "text/plain": [
       "'\\nJames Douglas Morrison (December 8, 1943 – July 3, 1971) was an American singer, poet and songwriter who was the lead vocalist of the rock band the Doors. Due to his wild personality, poetic lyrics, distinctive voice, unpredictable and erratic performances, and the dramatic circumstances surrounding his life and early death, Morrison is regarded by music critics and fans as one of the most iconic and influential frontmen in rock history. Since his death, his fame has endured as one of popular culture\\'s most rebellious and oft-displayed icons, representing the generation gap and youth counterculture.[3]\\nTogether with pianist Ray Manzarek, Morrison co-founded the Doors in 1965 in Venice, California. The group spent two years in obscurity until shooting to prominence with their number-one single in the United States, \"Light My Fire\", taken from their self-titled debut album. Morrison recorded a total of six studio albums with the Doors, all of which sold well and received critical acclaim. Morrison was well known for improvising spoken word poetry passages while the band played live.  Manzarek said Morrison \"embodied hippie counterculture rebellion\".[4]\\nMorrison developed an alcohol dependency throughout the band\\'s career, which at times affected his performances on stage.[5][6][7] In 1971, Morrison died unexpectedly in Paris at the age of 27, amid conflicting witness reports. His premature death made him a member of the infamous 27 club. Since no autopsy was performed, the cause of Morrison\\'s death remains disputed.[8] Although the Doors recorded two more albums after Morrison died, his death severely affected the band\\'s fortunes, and they split up two years later. In 2011, a Rolling Stone readers\\' pick placed Jim Morrison in fifth place of the magazine\\'s \"Best Lead Singers of All Time\".[9] In another Rolling Stone list, entitled \"The 100 Greatest Singers of All Time\", he was ranked 47th.[10] He was also ranked number 22 on Classic Rock magazine\\'s \"50 Greatest Singers in Rock\".[11] In 1993, Morrison was inducted into the Rock and Roll Hall of Fame as a member of the Doors.[12]\\nMorrison was born in late 1943 in Melbourne, Florida, to Clara Virginia (née Clarke) and Lt.(j.g.) George Stephen Morrison, a future rear admiral in the U.S. Navy.[13] His\\xa0ancestors were Scottish, Irish, and English.[14][15] Admiral Morrison commanded U.S. naval forces during the Gulf of Tonkin incident in August 1964, which provided the pretext for the U.S. involvement in the Vietnam War in 1965. Morrison had a younger sister, Anne Robin (born 1947 in Albuquerque, New Mexico), and a younger brother, Andrew Lee Morrison (born 1948 in Los Altos, California).[16]\\nIn 1947, when he was three to four years old, Morrison allegedly witnessed a car accident in the desert, during which a truck overturned and some American Indians were lying injured at the side of the road. He referred to this incident in the Doors\\' song \"Peace Frog\" on their 1970 album Morrison Hotel, as well as in the spoken word performances \"Dawn\\'s Highway\" and \"Ghost Song\" on the posthumous 1978 album An American Prayer. Morrison believed this incident to be the most formative event of his life,[17] and made repeated references to it in the imagery in his songs, poems, and interviews.[18]\\nHis family does not recall this traffic incident happening in the way he told it. According to the Morrison biography No One Here Gets Out Alive, Morrison\\'s family did drive past a car accident on an Indian reservation when he was a child, and he was very upset by it.[19] The book The Doors, written by the surviving members of the Doors, explains how different Morrison\\'s account of the incident was from that of his father. This book quotes his father as saying, \"We went by several Indians. It did make an impression on him [the young James]. He always thought about that crying Indian.\"[20] This is contrasted sharply with Morrison\\'s tale of \"Indians scattered all over the highway, bleeding to death.\" In the same book, his sister is quoted as saying, \"He enjoyed telling that story and exaggerating it. He said he saw a dead Indian by the side of the road, and I don\\'t even know if that\\'s true.\"[21]\\nRaised a military brat, Morrison spent part of his childhood in San Diego, completed third grade in northern Virginia at Fairfax County Elementary School, and attended Charles H. Flato Elementary School in Kingsville, Texas, while his father was stationed at NAS Kingsville in 1952. He continued at St. John\\'s Methodist School in Albuquerque, and then Longfellow School Sixth Grade Graduation Program from San Diego.[22]\\nIn 1957, Morrison attended Alameda High School in Alameda, California, for his freshman and first semester of his sophomore year.[23] The Morrison family moved back to northern Virginia in\\xa01959, and he graduated from George Washington High School (now a middle school) in Alexandria in June 1961.[22]\\nA voracious reader from an early age, Morrison was particularly inspired by the writings of several philosophers and poets. He was influenced by Friedrich Nietzsche, whose views on aesthetics, morality, and the Apollonian and Dionysian duality would appear in his conversation, poetry and songs. Some of his formative influences were Plutarch\\'s Parallel Lives and the works of the French Symbolist poet Arthur Rimbaud, whose style would later influence the form of Morrison\\'s short prose poems. He was also influenced by William S. Burroughs, Jack Kerouac, Allen Ginsberg, Louis Ferdinand Celine, Lawrence Ferlinghetti, Charles Baudelaire, Vladimir Nabokov, Molière, Franz Kafka, Albert Camus, Honoré de Balzac and Jean Cocteau, along with most of the French existentialist philosophers.[21][24]\\nHis senior year English teacher said, \"Jim read as much and probably more than any student in class, but everything he read was so offbeat I had another teacher (who was going to the Library of Congress) check to see if the books Jim was reporting on actually existed. I suspected he was making them up, as they were English books on sixteenth- and seventeenth-century demonology. I\\'d never heard of them, but they existed, and I\\'m convinced from the paper he wrote that he read them, and the Library of Congress would\\'ve been the only source.\"[19]\\nMorrison went to live with his paternal grandparents in Clearwater, Florida, and attended  St. Petersburg Junior College. In 1962, he transferred to Florida State University (FSU) in Tallahassee, and appeared in a school recruitment film.[25] While at FSU, Morrison was arrested for disturbing the peace while drunk at  a home football game on September 28, 1963.[26]\\nIn January 1964, Morrison moved to Los Angeles to attend the University of California, Los Angeles (UCLA). Seven months later, his father commanded a carrier division of the U.S. fleet during the Gulf of Tonkin Incident.  At\\xa0UCLA, Morrison enrolled in Jack Hirschman\\'s class on Antonin Artaud in the Comparative Literature program within the UCLA English Department. Artaud\\'s brand of surrealist theatre had a profound impact on Morrison\\'s dark poetic sensibility of cinematic theatricality.[27]\\nMorrison completed his undergraduate degree at UCLA\\'s film school within the Theater Arts department of the College of Fine Arts in\\xa01965.[28] At the time of the graduation ceremony, he went to Venice Beach, and the university mailed his diploma to his mother in Coronado, California.[29] He made several short films while attending UCLA. First Love, the first of these films, made with Morrison\\'s classmate and roommate Max Schwartz, was released to the public when it appeared in a documentary about the film Obscura.[30]\\nDuring these years, while living in Venice Beach, he befriended writers at the Los Angeles Free Press, for which he advocated until his death in\\xa01971. He\\xa0conducted a lengthy and in-depth interview with Bob Chorush and Andy Kent, both working for the Free Press at the time (approximately December 6–8, 1970), and was planning on visiting the headquarters of the busy newspaper shortly before leaving for\\xa0Paris.[31]\\nIn the middle of 1965, after graduating with a bachelor\\'s degree from the UCLA film school, Morrison led a bohemian lifestyle in Venice Beach. Living on the rooftop of a building inhabited by his old UCLA cinematography friend, Dennis Jacobs, he wrote the lyrics of many of the early songs the Doors would later perform live and record on albums, such as \"Moonlight Drive\" and \"Hello, I Love You\". According to Ray Manzarek, he lived on canned beans and LSD for several months.[32]\\nMorrison and fellow UCLA student Ray Manzarek were the first two members of the Doors, forming the group during that summer.[32] They had met months earlier as cinematography students. Manzarek narrated the story that he was lying on the beach at Venice one day, where he accidentally encountered Morrison.[32] He was impressed with Morrison\\'s poetic lyrics, claiming that they were \"rock group\" material. Subsequently, guitarist Robby Krieger and drummer John Densmore joined. Krieger auditioned at Densmore\\'s recommendation and was then added to the lineup. All three musicians shared a common interest in the Maharishi Mahesh Yogi\\'s meditation practices at the time, attending scheduled classes, but Morrison was not involved in these series of classes.[33]\\nMorrison was inspired to name the band after the title of Aldous Huxley\\'s book The Doors of Perception (a reference to the unlocking of doors of perception through psychedelic drug use). Huxley\\'s own concept was based on a quotation from William Blake\\'s The Marriage of Heaven and Hell, in which Blake wrote: \"If the doors of perception were cleansed everything would appear to man as it is, infinite.\"[34]\\nAlthough Morrison was known as the lyricist of the group, Krieger also made lyrical contributions, writing or co-writing some of the group\\'s biggest hits, including \"Light My Fire\", \"Love Me Two Times\", \"Love Her Madly\" and \"Touch Me\".[35] On the other hand, Morrison, who did not write most songs using an instrument, would come up with vocal melodies for his own lyrics, with the other band members contributing chords and rhythm.[36]  Morrison did not play an instrument live (except for maracas and tambourine for most shows, and harmonica on a few occasions) or in the studio (excluding maracas, tambourine, handclaps, and whistling). However, he did play the grand piano on \"Orange County Suite\"[37] and a Moog synthesizer on \"Strange Days\".[38]\\nIn June 1966, Morrison and the Doors were the opening act at the Whisky a Go Go in the last week of the residency of Van Morrison\\'s band Them.[39] Van\\'s influence on Jim\\'s developing stage performance was later noted by Brian Hinton in his book Celtic Crossroads: The Art of Van Morrison: \"Jim Morrison learned quickly from his near namesake\\'s stagecraft, his apparent recklessness, his air of subdued menace, the way he would improvise poetry to a rock beat, even his habit of crouching down by the bass drum during instrumental breaks.\"[40] On the final night, the two Morrisons and their two bands jammed together on \"Gloria\".[41][42][43] Van Morrison said about Jim Morrison\\'s vocal performance, \"He was really raw. He knew what he was doing and could do it very well.\"[44]\\nIn November 1966, Morrison and the Doors produced a promotional film for \"Break On Through (To the Other Side)\", which was their first single release. The film featured the four members of the group playing the song on a darkened set with alternating views and close-ups of the performers while Morrison lip-synched the lyrics. Morrison and the Doors continued to make short music films, including \"The Unknown Soldier\",[45] \"Strange Days\"[46] and \"People Are Strange\".\\nThe Doors achieved national recognition after signing with Elektra Records in 1967.[47] The single \"Light My Fire\" spent three weeks at number one on the Billboard Hot 100 chart in July/August 1967. This was a far cry from the Doors opening for Simon and Garfunkel or playing at a high school as they did in Connecticut that same year.[48] Later, the Doors appeared on The Ed Sullivan Show, a popular Sunday night variety series that had introduced the Beatles and Elvis Presley to the United States. Ed Sullivan requested two songs from the Doors for the show, \"People Are Strange\" and \"Light My Fire\".[49][50] Sullivan\\'s censors insisted that the Doors change the lyrics of the song \"Light My Fire\" from \"Girl we couldn\\'t get much higher\" to \"Girl we couldn\\'t get much better\" for the television viewers; this was reportedly due to what was perceived as a reference to drugs in the original lyrics. After giving assurances of compliance to the producer in the dressing room, the band agreed and proceeded to sing the song with the original lyrics. Sullivan was not happy and he refused to shake hands with Morrison or any other band member after their performance. Sullivan had a show producer tell the band that they would never appear on The Ed Sullivan Show again. Morrison reportedly said to the producer, in a defiant tone, \"Hey man. We just did the Sullivan Show!\"[49][50]\\nBy the release of their second album, Strange Days, the Doors had become one of the most popular rock bands in the United States. Their blend of blues and dark psychedelic rock included a number of original songs and distinctive cover versions, such as their rendition of \"Alabama Song\", from Bertolt Brecht and Kurt Weill\\'s opera, Rise and Fall of the City of Mahagonny.[51] The band also performed a number of extended concept works, including the songs \"The End\", \"When the Music\\'s Over\", and \"Celebration of the Lizard\". In late Summer 1967, photographer Joel Brodsky took a series of black-and-white photos of Morrison, in a photo shoot known as \"The Young Lion\" photo session. These photographs are considered among the most iconic images of Jim Morrison and are frequently used as covers for compilation albums, books, and other memorabilia of the Doors and Morrison.[52][53] In late 1967 at a concert in New Haven, Connecticut, he was arrested on stage, an incident that further added to his mystique and emphasized his rebellious image.[54] Morrison was the first rock artist to be arrested onstage during a live performance.[55]\\nIn 1968, the Doors released their third studio album, Waiting for the Sun. The band performed on July 5 at the Hollywood Bowl; this performance became famous with the DVD: Live at the Hollywood Bowl. It\\'s also this year that the band played, for the first time, in Europe. Their fourth album, The Soft Parade, was released in 1969. It was the first album where the individual band members were given credit on the inner sleeve for the songs they had written. Previously, each song on their albums had been credited simply to \"The Doors\".[56]\\nOn September 6 and 7, 1968, the Doors played four performances at the Roundhouse, London, England with Jefferson Airplane which was filmed by Granada for a television documentary The Doors Are Open directed by John Sheppard. Around this time, Morrison—who had long been a heavy drinker—started showing up for recording sessions visibly inebriated.[57] He was also frequently appearing in live performances and studio recordings late or stoned.[58]\\nBy early 1969, the formerly svelte singer had gained weight, grown a beard and begun dressing more casually — abandoning the leather pants and concho belts for slacks, jeans, and T-shirts. During a concert on March 1 at the Dinner Key Auditorium in Miami, Morrison attempted to spark a riot in the audience, in part by screaming \"You wanna see my cock?\" and other obscenities. Three days later, six warrants for his arrest were issued by the Dade County Police department for indecent exposure, among other accusations.[59][60]\\nConsequently, many of the Doors\\' scheduled concerts were canceled.[61][62] On September 20, 1970, Morrison was convicted of indecent exposure and profanity by a six-person jury in Miami after a trial that had 16 days of testimony.[63] Morrison, who attended the October 30 sentencing \"in a wool jacket adorned with Indian designs\", silently listened as he was sentenced to six months in prison and had to pay a $500 fine. Morrison remained free on a $50,000 bond.[64] At the sentencing, Judge Murray Goodman told Morrison that he was a \"person graced with a talent\" admired by many of his peers.[64] Interviewed by Boc Chorush of the L.A. Free Press, Morrison expressed both bafflement and clarity about the Miami incident, clarifying:\\nI wasted a lot of time and energy with the Miami trial. About a year and a half. But I guess it was a valuable experience because before the trial I had a very unrealistic schoolboy attitude about the American judicial system. My eyes have been opened up a bit. There were guys down there, black guys, that would go each day before I went on. It took about five minutes and they would get twenty or twenty-five years in jail. If I hadn\\'t had unlimited funds to continue fighting my case, I\\'d be in jail right now for three years. It\\'s just if you have money you generally don\\'t go to jail.[65]On December 8, 2010—the 67th anniversary of Morrison\\'s birth—Florida Governor Charlie Crist and the state clemency board unanimously signed a complete posthumous pardon for Morrison.[66] Densmore along with the other members of the band denied the notion that Morrison ever exposed himself on stage that night.[67][68][69]\\nFollowing The Soft Parade, the Doors released Morrison Hotel. After a lengthy break, the group reconvened in October 1970 to record their final album with Morrison, titled L.A. Woman. Shortly after the recording sessions for the album began, producer Paul A. Rothchild — who had overseen all of their previous recordings — left the project, and engineer Bruce Botnick took over as producer.[70]\\nI got a phone call and I didn\\'t believe it because we used to hear shit like that all the time\\xa0– that Jim jumped off a cliff or something. So we sent our manager off to Paris, and he called and said it was true.After recording L.A. Woman with the Doors in Los Angeles, Morrison announced to the band his intentions to go to Paris. His bandmates generally felt it was a good idea.[72][73][74] In March 1971, he joined girlfriend Pamela Courson in Paris at an apartment she had rented for him at 17–19, Rue Beautreillis in Le Marais, 4th arrondissement. In letters to friends, he described going for long walks through the city, alone.[75] During this time, he shaved his beard and lost some of the weight he had gained in the previous months.[76]\\nOn July 3, 1971, Morrison was found dead in the bathtub of the apartment at approximately 6:00\\xa0a.m.,[77][78] by Courson.[79][80][81] He was 27 years old.[82] The official cause of death was listed as heart failure,[83][84] although no autopsy was performed, as it was not required by French law. It has also been reported, by several individuals who say they were eyewitnesses, that his death was due to an accidental heroin overdose.[85]\\nHis death came two years to the day after the death of Rolling Stones guitarist Brian Jones and approximately nine months after the deaths of Jimi Hendrix and Janis Joplin — all of whom died at the age of 27.[86] Three years after Morrison\\'s death, Courson also died, of a heroin overdose, at the age of 27.[87] Since the date of his demise, there have been a number of conspiracy theories concerning Morrison\\'s death.[88][89]\\nMorrison\\'s early life was the semi-nomadic existence typical of military families.[90] Jerry Hopkins recorded Morrison\\'s brother, Andy, explaining that his parents had determined never to use physical corporal punishment such as spanking on their children. They instead instilled discipline and levied punishment by the military tradition known as \"dressing down\". This consisted of yelling at and berating the children until they were reduced to tears and acknowledged their failings.[19] Once Morrison graduated from UCLA, he broke off most contact with his family. By the time Morrison\\'s music ascended to the top of the charts (in 1967) he had not been in communication with his family for more than a year and falsely claimed that his parents and siblings were dead (or claiming, as it has been widely misreported, that he was an only child).[77]\\nThis misinformation was published as part of the materials distributed with the Doors\\' self-titled debut album. Admiral Morrison was not supportive of his son\\'s career choice in music. One day, an acquaintance brought over a record thought to have Jim on the cover. The record was the Doors\\' self-titled debut. The young man played the record for Morrison\\'s father and family. Upon hearing the record, Morrison\\'s father wrote him a letter telling him \"to give up any idea of singing or any connection with a music group because of what I consider to be a complete lack of talent in this direction.\"[91] In a letter to the Florida Probation and Parole Commission District Office dated October 2, 1970, Morrison\\'s father acknowledged the breakdown in family communications as the result of an argument over his assessment of his son\\'s musical talents. He said he could not blame his son for being reluctant to initiate contact and that he was proud of him.[92]\\nMorrison spoke fondly of his Irish and Scottish ancestry and was inspired by Celtic mythology in his poetry and songs.[93][94] Celtic Family Magazine revealed in its 2016 Spring Issue that his Morrison clan was originally from the Isle of Lewis, Scotland, while his Irish side, the Clelland clan who married into the Morrison line, were from County Down, Northern Ireland.[95]\\nMorrison was sought after by many as a photographer\\'s model, confidante, romantic partner and sexual conquest. Throughout his life he had at least several serious, ongoing relationships, and many casual encounters. By many accounts, he could also be inconsistent with his partners,[96] displaying what some recall as \"a dual personality\".[97] Doors producer Paul Rothchild recalls, \"Jim really was two very distinct and different people. A Jekyll and Hyde. When he was sober, he was Jekyll, the most erudite, balanced, friendly kind of guy\\xa0... He was Mr. America. When he would start to drink, he\\'d be okay at first, then, suddenly, he would turn into a maniac. Turn into Hyde.\"[97]\\nOne of Morrison\\'s early significant relationships was with Mary Werbelow, whom he met on the beach in Florida, when they were teenagers in 1962. In a 2005 interview with the St. Petersburg Times, she said Morrison spoke to her before a photo shoot for the Doors\\' fourth album and told her the first three albums were about her.[98][99][100][101]\\nMorrison spent the majority of his adult life in an open,[97] and at times very charged and intense, relationship with Pamela Courson. They met while both were attending college,[102] and she encouraged him to develop his poetry. Through to the end, Courson saw Morrison as more than a rock star, as \"a great poet\"; she constantly encouraged him and pushed him to write.[103] Courson attended his concerts, and focused on supporting his career.[104] Like Morrison, she was described by many as fiery, determined and attractive, as someone who was tough despite appearing fragile. Manzarek called Pamela \"Jim\\'s other half\" and said, \"I never knew another person who could so complement his bizarreness.\"[105]\\nCourson was buried by her family as Pamela Susan Morrison, after Jim Morrison\\'s death, despite the two having never been married. After Courson\\'s death in 1974 her parents petitioned the court for inheritance of Morrison\\'s estate. The probate court in California decided that she and Morrison had once had what qualified as a common-law marriage, despite neither having applied for such status, and the common-law marriage not being recognized in California. Morrison\\'s will at the time of his death named Courson as the sole heir.[106]\\nMorrison dedicated his published poetry books The Lords and New Creatures and the lost writings Wilderness to her. A number of writers have speculated that songs like \"Love Street\", \"Orange County Suite\" and \"Queen of the Highway\", among other songs, may have been written about her.[107][108] Though the relationship was \"tumultuous\" much of the time, and both also had relationships with others, they always maintained a unique and ongoing connection with one another, right up until the end.[97][109]\\nThroughout his career, Morrison had regular sexual and romantic encounters with fans (including groupies) such as Pamela Des Barres,[110][111] as well as ongoing affairs with other musicians, writers and photographers involved in the music business. These included Nico, an encounter with singer Grace Slick of Jefferson Airplane while the two bands toured together,[112] an on-again, off-again relationship with 16 Magazine\\'s Gloria Stavers, as well as an alleged alcohol-fueled encounter with Janis Joplin.[113]\\nDavid Crosby said many years later Morrison treated Joplin meanly at a party at the Calabasas, California, home of John Davidson while Davidson was out of town.[114][115][116] She reportedly hit him over the head with a bottle of whiskey in retaliation during a fight in front of witnesses.[114][115][116][117] Thereafter, whenever Joplin had a conversation with someone who mentioned Morrison, Joplin referred to him as \"that asshole\", never by his first or last name.[118]\\nFirst written about in No One Here Gets Out Alive, Break On Through, and later in her own memoir, Strange Days: My Life with and without Jim Morrison, Morrison participated in a Celtic Pagan handfasting ceremony with rock critic Patricia Kennealy.[19][119][120] The couple signed a handwritten document, and were declared wed by a Celtic High Priestess and High Priest on Midsummer\\'s Night in 1970, but none of the necessary paperwork for a legal marriage was filed with the state.[120][121]\\nThe couple had been friends, and then in a long-distance relationship, since meeting at a private interview for Jazz & Pop magazine in January 1969. The handfasting ceremony is described in No One Here Gets Out Alive as a \"blending of souls on a karmic and cosmic plane\". Morrison was also still seeing Pamela Courson when he was in Los Angeles, and later moved to Paris for the summer where Courson had acquired an apartment. In an interview in the book Rock Wives, Kennealy says he turned \"really cold\" when she became pregnant, leading her to speculate that maybe he hadn\\'t taken the wedding as seriously as he\\'d led her to believe.[96][122][123][124]\\nShe also notes that his coldness and distance was during the trial in Miami, and that \"he was scared to death. They were really out to put him away. Jim was devastated that he wasn\\'t getting any public support.\"[125] As he did with so many people, Morrison could be cruel and cold and then turn warm and loving;[96] he wrote in letters that he was planning on returning to her, to New York City, in the fall of \\'71.[126][127] However, Kennealy was skeptical. Morrison seemed to be falling apart. He was back with Courson in Paris, he was severely alcoholic and in poor health, and like many, Kennealy feared he was dying.[126]\\nAt the time of Morrison\\'s death, there were multiple paternity actions pending against him, although no claims were made against his estate by any of the putative paternity claimants.[128]\\nAlthough Morrison\\'s early education was routinely disrupted as he moved from school to school, he was drawn to the study of literature, poetry, religion, philosophy and psychology, among other fields.[129] Biographers have consistently pointed to a number of writers and philosophers who influenced Morrison\\'s thinking and, perhaps, his behaviour.[21][24][130][131][132] While still in his adolescence, Morrison discovered the works of German philosopher Friedrich Nietzsche.[6] He was also drawn to the poetry of William Blake, Charles Baudelaire, and Arthur Rimbaud.[131]\\nBeat Generation writers such as Jack Kerouac and libertine writers such as the Marquis de Sade also had a strong influence on Morrison\\'s outlook and manner of expression; Morrison was eager to experience the life described in Kerouac\\'s On the Road.[133][134] He was similarly drawn to the work of French writer Louis-Ferdinand Céline.[132] Céline\\'s book, Voyage Au Bout de la Nuit (Journey to the End of the Night) and Blake\\'s Auguries of Innocence both echo through one of Morrison\\'s early songs, \"End of the Night\".[131]\\nMorrison later met and befriended Michael McClure, a well-known Beat poet. McClure had enjoyed Morrison\\'s lyrics but was even more impressed by his poetry and encouraged him to further develop his craft.[135] Morrison\\'s vision of performance was colored by the works of 20th-century French playwright Antonin Artaud[136] (author of Theater and its Double) and by Judith Malina and Julian Beck\\'s Living Theater.[137][138]\\nOther works relating to religion, mysticism, ancient myth and symbolism were of lasting interest, particularly Joseph Campbell\\'s The Hero with a Thousand Faces. James Frazer\\'s The Golden Bough also became a source of inspiration and is reflected in the title and lyrics of the song \"Not to Touch the Earth\".[139][140] Morrison was particularly attracted to the myths and religions of Native American cultures.[141]\\nWhile he was still at school, his family moved to New Mexico where he got to see some of the places and artifacts important to the American Southwest Indigenous cultures. These interests appear to be the source of many references to creatures and places such as lizards, snakes, deserts and \"ancient lakes\" that appear in his songs and poetry. His interpretation and imagination of Native American ceremonies and peoples (which, based on his readings, he referred to by the anthropological term \"shamans\") influenced his stage routine, notably in seeking trance states and vision through dancing to the point of exhaustion.[142] In particular, Morrison\\'s poem \"The Ghost Song\" was inspired by his readings about the Native American Ghost Dance.\\nMorrison\\'s vocal influences included Elvis Presley and Frank Sinatra, which can be heard in his baritone crooning style on several of the Doors\\' songs. In the 1981 documentary The Doors: A Tribute to Jim Morrison, producer Paul Rothchild relates his first impression of Morrison as being a \"Rock and Roll Bing Crosby\". Sound engineer, Bruce Botnick, has recalled that when he first met the Doors in Sunset Sound Studios, Botnick showed them the condenser microphone, which Morrison would then use when recording his vocals for their debut album. Morrison was particularly excited about this microphone (the Telefunken U47) as it was the same model that Frank Sinatra had used for some of his recording sessions.[36] Sugerman has written that Morrison, as a teenager, was such a fan of Elvis Presley that he demanded silence when Elvis was on the radio, but that Sinatra was Morrison\\'s favorite singer.[143] According to record producer David Anderle, Morrison considered Brian Wilson \"his favorite musician\" and the Beach Boys\\' 1967 LP Wild Honey \"one of his favorite albums. ... he really got into it.\"[144]\\nWallace Fowlie, professor emeritus of French literature at Duke University, wrote Rimbaud and Jim Morrison, subtitled \"The Rebel as Poet\\xa0– A Memoir\". In this, he recounts his surprise at receiving a fan letter from Morrison who, in 1968, thanked him for his latest translation of Arthur Rimbaud\\'s verse into English. \"I don\\'t read French easily\", he wrote, \"...your book travels around with me.\" Fowlie went on to give lectures on numerous campuses comparing the lives, philosophies, and poetry of Morrison and Rimbaud. The book The Doors by the remaining Doors quotes Morrison\\'s close friend Frank Lisciandro as saying that too many people took a remark of Morrison\\'s that he was interested in revolt, disorder, and chaos \"to mean that he was an anarchist, a revolutionary, or, worse yet, a nihilist. Hardly anyone noticed that Jim was paraphrasing Rimbaud and the Surrealist poets\".[145]\\nMorrison began writing in earnest during his adolescence. At UCLA he studied the related fields of theater, film, and cinematography.[146] He self-published two volumes of his poetry in 1969, titled The Lords / Notes on Vision and The New Creatures. The Lords consists primarily of brief descriptions of places, people, events and Morrison\\'s thoughts on cinema. The New Creatures verses are more poetic in structure, feel and appearance. These two books were later combined into a single volume titled The Lords and The New Creatures. These were the only writings published during Morrison\\'s lifetime. Morrison befriended Beat poet Michael McClure, who wrote the afterword for Jerry Hopkins\\' biography of Morrison, No One Here Gets Out Alive. McClure and Morrison reportedly collaborated on a number of unmade film projects, including a film version of McClure\\'s infamous play The Beard, in which Morrison would have played Billy the Kid.[147]\\nThe Lost Writings of Jim Morrison Volume I is titled Wilderness, and, upon its release in 1988, became an instant New York Times Bestseller.[148] Volume II, The American Night, released in 1990, was also a success.[149]  Morrison recorded his own poetry in a professional sound studio on two occasions. The first was in March 1969 in Los Angeles and the second was on December 8, 1970. The latter recording session was attended by Morrison\\'s personal friends and included a variety of sketch pieces. Some of the segments from the 1969 session were issued on the bootleg album The Lost Paris Tapes and were later used as part of the Doors\\' An American Prayer album, released in 1978.[150]\\nThe album reached No. 54 on the music charts.[151] Some poetry recorded from the December 1970 session remains unreleased to this day and is in the possession of the Courson family. Morrison\\'s best-known but seldom seen cinematic endeavor is HWY: An American Pastoral, a project he started in 1969. Morrison financed the venture and formed his own production company in order to maintain complete control of the project. Paul Ferrara, Frank Lisciandro, and Babe Hill assisted with the project. Morrison played the main character, a hitchhiker turned killer/car thief. Morrison asked his friend, composer/pianist Fred Myrow, to select the soundtrack for the film.[152]\\nAfter his death, a notebook of poetry written by Morrison was recovered, titled Paris Journal;[153] amongst other personal details, it contains the allegorical foretelling of a man who will be left grieving and having to abandon his belongings, due to a police investigation into a death connected to the Chinese opium trade. \"Weeping, he left his pad on orders from police and furnishings hauled away, all records and mementos, and reporters calculating tears & curses for the press: \\'I hope the Chinese junkies get you\\' and they will for the [opium] poppy rules the world\".[153][154][155][156]\\nThe concluding stanzas of this poem convey disappointment for someone with whom he had had an intimate relationship and contain a further invocation of Billy the killer/Hitchhiker, a common character in Morrison\\'s body of work. \"This is my poem for you, Great flowing funky flower\\'d beast, Great perfumed wreck of hell...Someone new in your knickers & who would that be? You know, You know more, than you let on...Tell them you came & saw & look\\'d into my eyes & saw the shadow of the guard receding, Thoughts in time & out of season The Hitchhiker stood by the side of the road & levelled his thumb in the calm calculus of reason.\"[153][154]\\nIn 2013, another of Morrison\\'s notebooks from Paris, found alongside the Paris Journal in the same box, known as the 127 Fascination box,[157] sold for $250,000 at auction.[153][158] This box of personal belongings similarly contained a home movie of Pamela Courson dancing in an unspecified cemetery in Corsica, the only film so far recovered to have been filmed by Morrison.[159][160] The box also housed a number of older notebooks and journals and may initially have included the \"Steno Pad\" and the falsely titled The Lost Paris Tapes bootleg, if they had not been separated from the primary collection and sold by Philippe Dalecky with this promotional title. Those familiar with the voices of Morrison\\'s friends and colleagues later determined that, contrary to the story advanced by Dalecky that this was Morrison\\'s final recording made with busking Parisian musicians, the Lost Paris Tapes are in fact of \"Jomo & The Smoothies\": Morrison, friend Michael McClure and producer Paul Rothchild loose jamming in Los Angeles, well before Paris 1971.[156]\\nMorrison was buried in Père Lachaise Cemetery in Paris,[161] one of the city\\'s most visited tourist attractions, where Irish playwright Oscar Wilde, French cabaret singer Edith Piaf, and many other poets and artists are also buried. The grave had no official marker until French officials placed a shield over it, which was stolen in 1973. The grave was listed in the cemetery directory with Morrison\\'s name incorrectly arranged as \"Douglas James Morrison\".\\nIn 1981, Croatian sculptor Mladen Mikulin[162] voluntarily – with the approval of the cemetery curators – placed a marble bust of his own design and a new gravestone with Morrison\\'s name at the grave to commemorate the tenth anniversary of Morrison\\'s death; the bust was defaced through the years by vandals, and later stolen in 1988.[163] Mikulin made another bust of Morrison in 1989,[164] and a bronze portrait (\"death mask\") of him in 2001;[165] neither piece is at the gravesite.\\nIn 1990, Morrison\\'s father, George Stephen Morrison, after a consultation with E. Nicholas Genovese, Professor of Classics and Humanities, San Diego State University, placed a flat stone on the grave. The bronze plaque thereon bears the Greek inscription: ΚΑΤΑ ΤΟΝ ΔΑΙΜΟΝΑ ΕΑΥΤΟΥ, usually translated as \"true to his own spirit\" or \"according to his own daemon\".[166][167][168][169]\\nMorrison continues to be one of the most popular and influential singer-songwriters and iconic frontmen in rock history.[3] To this day, Morrison is widely regarded as the prototypical rock star: surly, sexy, scandalous, and mysterious.[170] The leather pants he was fond of wearing both onstage and off have since become stereotyped as rock-star apparel.[171] The lead singer of U2, Bono, created and portrayed an onstage alter-ego, which he called \"Fly\". He described the character\\'s outfit as wearing Morrison\\'s leather pants.[172]\\nIn 2011, a Rolling Stone readers\\' pick placed Jim Morrison in fifth place of the magazine\\'s \"Best Lead Singers of All Time\".[9] In another Rolling Stone list, entitled \"The 100 Greatest Singers of All Time\", he was ranked 47th.[10] He was also ranked number 22 on Classic Rock magazine\\'s \"50 Greatest Singers in Rock\".[11] In 1993, Morrison was inducted into the Rock and Roll Hall of Fame as a member of the Doors.[12]\\nMorrison\\'s recital of his poem \"Bird of Prey\" can be heard throughout the song \"Sunset\" by Fatboy Slim. In 2012 electronic music producer Skrillex released \"Breakn\\' a Sweat\" which contained vocals from an interview with Morrison.[173] Alice Cooper in the liner notes of the album Killer said that his song \"Desperado\" was dedicated to Morrison.[174]\\nIggy and the Stooges are said to have formed after lead singer Iggy Pop was inspired by Morrison while attending a Doors concert in Ann Arbor, Michigan.[175] Pop later said about the concert:\\nThat show was a big, big, big influence on me. They had just had their big hit, \"Light My Fire\" and the album had taken off\\xa0... So, here\\'s this guy, out of his head on acid, dressed in leather with his hair all oiled and curled. The stage was tiny and it was really low. It got confrontational. I found it really interesting. I loved the performance\\xa0... Part of me was like, \"Wow, this is great. He\\'s really pissing people off and he\\'s lurching around making these guys angry.\"[176]One of Pop\\'s most popular songs, \"The Passenger\", is said to be based on one of Morrison\\'s poems.[177] Layne Staley, the vocalist of Alice in Chains; Eddie Vedder, the vocalist of Pearl Jam; Scott Weiland,[178] the vocalist of Stone Temple Pilots and Velvet Revolver; and Glenn Danzig, singer and founder of Danzig[179] have said that Morrison was their biggest influence. Critic Jim DeRogatis describes Vedder\\'s vocals as a \"Jim Morrison-like vocal growl\".[180] Morrison\\'s poetry and art, have also influenced artists such as Ian Curtis, the lead singer of Joy Division.[181]\\nIn 1991, Oliver Stone directed a biopic film about Morrison, with actor Val Kilmer portraying him. Kilmer learned over 20 of Doors\\' songs to achieve Morrison\\'s role.[182] While the film was inspired by many real events and individuals, the film\\'s depiction of Morrison was heavily criticized by many people who knew Morrison personally, including Patricia Kennealy and the other Doors members.[183][184] Former Doors keyboardist Ray Manzarek said about the film\\'s portrayal, \"It was ridiculous\\xa0... It was not about Jim Morrison. It was about \\'Jimbo Morrison\\', the drunk. God, where was the sensitive poet and the funny guy? The guy I knew was not on that screen.\"[185] Guitarist Robby Krieger said that the movie didn\\'t capture \"how Jim [Morrison] was at all.\"[186]  Though John Densmore reacted mostly negatively during the period of the film\\'s release, he was somewhat more positive in subsequent years.[187]\\nDavid Crosby on an album by CPR wrote and recorded a song about the movie with the lyric: \"And I have seen that movie – and it wasn\\'t like that.\"[188] In general, the movie received underwhelming to poor reviews, which largely focused on the many inaccuracies and problems with the narrative. However, Val Kilmer received some praise for his performance, with some members of the Doors reportedly saying that at times they couldn\\'t distinguish whether it was Kilmer or Morrison singing on some of the sequences.[189] Overall, the group members (excluding Manzarek) praised Kilmer\\'s interpretation.[190] Regardless of the widespread acclaim surrounding Kilmer\\'s performance, he did not claim any award.[187]\\nThe lead character of a 2011 Bollywood movie, Rockstar starring Ranbir Kapoor, was loosely based on Morrison.[191]\\n'"
      ]
     },
     "execution_count": 4,
     "metadata": {},
     "output_type": "execute_result"
    }
   ],
   "source": [
    "url = \"https://en.wikipedia.org/wiki/Jim_Morrison\"\n",
    "get_musician_text(url)"
   ]
  },
  {
   "cell_type": "markdown",
   "metadata": {},
   "source": [
    "<p><span style=\"color:blue\">get_all_musicians</span>: A function that, given a list of genres, returns a list containing the names of the musicians and the urls for their wikipedia pages associated with that list of genres\n",
    "<p>The function should return a list of (name,url) pairs for all the musicians in the list of genres\n",
    "<p>You need to:\n",
    "<ol>\n",
    "<li>iterate through the list of genres\n",
    "<li>initialize a list \"all_musicians\"\n",
    "<li>construct a url for the list of musicians (I've done these first three steps for you)\n",
    "<li>call get_musicians for that url\n",
    "<li>extend all_musicians by what get_musicians returns"
   ]
  },
  {
   "cell_type": "code",
   "execution_count": 5,
   "metadata": {},
   "outputs": [],
   "source": [
    "def get_all_musicians(genre_list):\n",
    "    all_musicians = list()\n",
    "    for genre in genre_list:\n",
    "        url = 'https://en.wikipedia.org/wiki/List_of_' + genre\n",
    "        musician_list = get_musicians(url)\n",
    "        for item in musician_list:\n",
    "            all_musicians.append((item[0],item[1]))\n",
    "    \n",
    "    return all_musicians"
   ]
  },
  {
   "cell_type": "markdown",
   "metadata": {},
   "source": [
    "<h4>Example of how to use get_all_musicians</h4>"
   ]
  },
  {
   "cell_type": "code",
   "execution_count": 6,
   "metadata": {},
   "outputs": [],
   "source": [
    "genre_list = ['dance-rock_artists','dubstep_musicians','electro_house_artists','UK_garage_artists','West_Coast_blues_musicians']\n",
    "# genre_list = ['bluegrass_musicians#G','British_blues_musicians','country_blues_musicians','emo_artists']\n",
    "all_musicians = get_all_musicians(genre_list)"
   ]
  },
  {
   "cell_type": "markdown",
   "metadata": {},
   "source": [
    "<p><span style=\"color:blue\">get_all_musician_docs</span>: A function that, given the list of (musician,url) pairs, returns two lists, a list of musicians and a parallel (same size) list of documents. \n",
    "\n",
    "<p>You need to:\n",
    "\n",
    "<ol>\n",
    "<li>initialize the two lists\n",
    "\n",
    "<li>iterate through the all_musicians list\n",
    "<li>extract the name and the url of the musician\n",
    "<li>get the text using the get_musician_text() function\n",
    "<li>if the function returns None, ignore it and move to the next musician\n",
    "<li>otherwise, append the name ot the musician_names list and the text to the musician_texts list\n",
    "<li>return musician_names and musician_texts\n"
   ]
  },
  {
   "cell_type": "code",
   "execution_count": 7,
   "metadata": {},
   "outputs": [],
   "source": [
    "def get_all_musician_docs(all_musicians):\n",
    "    musician_names = list()\n",
    "    musician_texts = list()\n",
    "    for musician in all_musicians:\n",
    "        name = musician[0]\n",
    "        url = musician[1]\n",
    "        text = get_musician_text(url)\n",
    "        if text != None:\n",
    "            musician_names.append(name)\n",
    "            musician_texts.append(text)\n",
    "        else:\n",
    "            continue\n",
    "    return musician_names,musician_texts"
   ]
  },
  {
   "cell_type": "markdown",
   "metadata": {},
   "source": [
    "<h4>Example of how to use get_all_musician_docs</h4>"
   ]
  },
  {
   "cell_type": "code",
   "execution_count": 8,
   "metadata": {},
   "outputs": [],
   "source": [
    "reference_names,reference_docs = get_all_musician_docs(all_musicians)"
   ]
  },
  {
   "cell_type": "markdown",
   "metadata": {},
   "source": [
    "<h3>Set up the LSI model</h3>\n",
    "<li>reference_docs is the list of documents\n",
    "<li>construct texts, dictionary, and corpus (see class iPython notebook)\n",
    "<li>construct an LSI model. Use 5 topics initially but you should play around with this number"
   ]
  },
  {
   "cell_type": "code",
   "execution_count": 9,
   "metadata": {},
   "outputs": [],
   "source": [
    "#Code for LSI model goes here\n",
    "import nltk\n",
    "from nltk.corpus import stopwords\n",
    "from gensim.parsing.preprocessing import STOPWORDS\n",
    "from gensim import corpora, models, similarities\n",
    "\n",
    "texts = [[word for word in document.lower().split()\n",
    "        if word not in STOPWORDS and word.isalnum()]\n",
    "        for document in reference_docs]\n",
    "dictionary = corpora.Dictionary(texts)\n",
    "corpus = [dictionary.doc2bow(text) for text in texts]\n",
    "\n",
    "lsi = models.LsiModel(corpus, id2word=dictionary, num_topics=5)"
   ]
  },
  {
   "cell_type": "markdown",
   "metadata": {},
   "source": [
    "<h3>Construct the \"musician\" data set</h3>\n",
    "<h4>Example</h4>"
   ]
  },
  {
   "cell_type": "code",
   "execution_count": 10,
   "metadata": {},
   "outputs": [],
   "source": [
    "musician_genre_list = ['Britpop_musicians']\n",
    "# musician_genre_list = ['acid_rock_artists']\n",
    "all_musicians = get_all_musicians(musician_genre_list)\n",
    "musician_names,musician_docs = get_all_musician_docs(all_musicians)"
   ]
  },
  {
   "cell_type": "markdown",
   "metadata": {},
   "source": [
    "<h4>find the most similar musicians for each new musician from our reference data set</h4>"
   ]
  },
  {
   "cell_type": "code",
   "execution_count": 11,
   "metadata": {},
   "outputs": [
    {
     "name": "stdout",
     "output_type": "stream",
     "text": [
      "60 Ft. Dolls             \tBig Audio Dynamite\n",
      "Ash                      \tAnd Then There Were None\n",
      "The Auteurs              \tRobert Palmer\n",
      "Babybird                 \tFriendly Fires\n",
      "Black Grape              \tRobert Palmer\n",
      "The Bluetones            \tA Certain Ratio\n",
      "Blur                     \tDepeche Mode\n",
      "The Boo Radleys          \tAnd Then There Were None\n",
      "Cast                     \tThe White Tie Affair\n",
      "Catatonia                \tINXS\n",
      "The Charlatans           \tThe Charlatans\n",
      "Cornershop               \tHot Chip\n",
      "Delicatessen             \tRobert Palmer\n",
      "The Divine Comedy        \tGarbage\n",
      "Dodgy                    \tThe Stone Roses\n",
      "Echobelly                \tThe Prodigy\n",
      "Elastica                 \tPrimal Scream\n",
      "Embrace                  \tGarbage\n",
      "Gene                     \tFine Young Cannibals\n",
      "Geneva                   \tEMF\n",
      "Gorky's Zygotic Mynci    \tTalking Heads\n",
      "Heavy Stereo             \tTalking Heads\n",
      "Kenickie                 \t3rd Edge\n",
      "Kinky Machine            \tBig Audio Dynamite\n",
      "Kula Shaker              \tNew Order\n",
      "The Lightning Seeds      \tABC\n",
      "Longpigs                 \tThe Stone Roses\n",
      "Lush                     \tPrimal Scream\n",
      "Manic Street Preachers   \tFranz Ferdinand\n",
      "Mansun                   \tThe Stone Roses\n",
      "Marion                   \tThe Stone Roses\n",
      "Me Me Me                 \tLonyo\n",
      "Menswear                 \tA Certain Ratio\n",
      "My Life Story            \tPseudo Echo\n",
      "Northern Uproar          \tPrimal Scream\n",
      "Oasis                    \tScissor Sisters\n",
      "Ocean Colour Scene       \tEMF\n",
      "Powder                   \tThe New Cities\n",
      "Pulp                     \tRobert Palmer\n",
      "Rialto                   \tThe New Cities\n",
      "Ride                     \tINXS\n",
      "Saint Etienne            \tABC\n",
      "Salad                    \tA Certain Ratio\n",
      "The Seahorses            \tThe White Tie Affair\n",
      "Shed Seven               \tEMF\n",
      "Silver Sun               \tFriendly Fires\n",
      "Shampoo                  \tEurythmics\n",
      "Sleeper                  \tFrankie Goes to Hollywood\n",
      "Stereophonics            \tFranz Ferdinand\n",
      "Strangelove              \tGarbage\n",
      "Suede                    \tINXS\n",
      "Super Furry Animals      \tABC\n",
      "Supergrass               \tEMF\n",
      "The Supernaturals        \tDepeche Mode\n",
      "These Animal Men         \tABC\n",
      "Travis                   \tDepeche Mode\n",
      "The Verve                \tOingo Boingo\n"
     ]
    }
   ],
   "source": [
    "table_data = list()\n",
    "for index,musician in enumerate(musician_docs):\n",
    "    \n",
    "    #Your similarity code here. Use the in-class notebook as a reference\n",
    "    vec_bow = dictionary.doc2bow(musician.lower().split())\n",
    "    vec_lsi = lsi[vec_bow]\n",
    "    ind = similarities.MatrixSimilarity(lsi[corpus])\n",
    "    sims = ind[vec_lsi]\n",
    "    sims = sorted(enumerate(sims), key=lambda item: -item[1])\n",
    "    \n",
    "    most_similar_musician = sims[0][0]\n",
    "    table_data.append((musician_names[index],reference_names[most_similar_musician]))\n",
    "    \n",
    "#Write code to print table_data after the for loop ends\n",
    "for item in table_data:\n",
    "    print(\"{0:25s}\\t{1}\".format(item[0],item[1]))"
   ]
  },
  {
   "cell_type": "code",
   "execution_count": null,
   "metadata": {},
   "outputs": [],
   "source": []
  }
 ],
 "metadata": {
  "anaconda-cloud": {},
  "kernelspec": {
   "display_name": "Python 3",
   "language": "python",
   "name": "python3"
  },
  "language_info": {
   "codemirror_mode": {
    "name": "ipython",
    "version": 3
   },
   "file_extension": ".py",
   "mimetype": "text/x-python",
   "name": "python",
   "nbconvert_exporter": "python",
   "pygments_lexer": "ipython3",
   "version": "3.8.3"
  }
 },
 "nbformat": 4,
 "nbformat_minor": 2
}
