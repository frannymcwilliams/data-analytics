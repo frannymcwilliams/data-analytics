{
 "cells": [
  {
   "cell_type": "markdown",
   "metadata": {},
   "source": [
    "<h1>Problem 1: Part 1</h1>"
   ]
  },
  {
   "cell_type": "code",
   "execution_count": 6,
   "metadata": {},
   "outputs": [
    {
     "data": {
      "text/plain": [
       "'!'"
      ]
     },
     "execution_count": 6,
     "metadata": {},
     "output_type": "execute_result"
    }
   ],
   "source": [
    "def preceding(char):\n",
    "    coded_char = '' #Your code will figure out what the value of coded_char should be\n",
    "    \n",
    "    #Code goes here\n",
    "    if char.isalpha() and char != ('a' and 'A'): # PREVIOUSLY ('a' or 'A') DIDNT WORK CORRECTLY\n",
    "        ord_char = ord(char)-1\n",
    "    elif char == 'a':\n",
    "        ord_char = ord('z')\n",
    "    elif char == 'A':\n",
    "        ord_char = ord('Z')\n",
    "    else:\n",
    "        ord_char = ord(char)\n",
    "    coded_char = chr(ord_char)\n",
    "    return coded_char\n",
    "preceding('8')"
   ]
  },
  {
   "cell_type": "code",
   "execution_count": 2,
   "metadata": {},
   "outputs": [
    {
     "name": "stdout",
     "output_type": "stream",
     "text": [
      "z\n",
      "a\n",
      "!\n"
     ]
    }
   ],
   "source": [
    "print(preceding('a')) #Should print z\n",
    "print(preceding('b')) #Should print a\n",
    "print(preceding('!')) #Should print !"
   ]
  },
  {
   "cell_type": "markdown",
   "metadata": {},
   "source": [
    "<h1>Problem 1: Part 2</h1>\n"
   ]
  },
  {
   "cell_type": "code",
   "execution_count": 3,
   "metadata": {},
   "outputs": [],
   "source": [
    "def succeeding(char):\n",
    "    coded_char = '' #Your code will figure out what the value of coded_char should be\n",
    "    \n",
    "    #Code goes here\n",
    "    if char.isalpha() and char != ('z' or 'Z'):\n",
    "        ord_char = ord(char)+1\n",
    "    elif char == 'z':\n",
    "        ord_char = ord('a')\n",
    "    elif char == 'Z':\n",
    "        ord_char = ord('A')\n",
    "    else:\n",
    "        ord_char = ord(char)\n",
    "    coded_char = chr(ord_char)    \n",
    "    return coded_char    "
   ]
  },
  {
   "cell_type": "code",
   "execution_count": 4,
   "metadata": {},
   "outputs": [
    {
     "name": "stdout",
     "output_type": "stream",
     "text": [
      "a\n",
      "c\n",
      "!\n"
     ]
    }
   ],
   "source": [
    "print(succeeding('z')) #Should print a\n",
    "print(succeeding('b')) #Should print c\n",
    "print(succeeding('!')) #Should print !"
   ]
  },
  {
   "cell_type": "markdown",
   "metadata": {},
   "source": [
    "<h1>Problem 1: Part 3</h1>"
   ]
  },
  {
   "cell_type": "code",
   "execution_count": 5,
   "metadata": {},
   "outputs": [],
   "source": [
    "def message_coder(message_string,function):\n",
    "    coded_message = ''\n",
    "    \n",
    "    #Code goes here\n",
    "    for i in range(0,len(message_string)):\n",
    "        coded_message += function(message_string[i])\n",
    "    return coded_message"
   ]
  },
  {
   "cell_type": "markdown",
   "metadata": {},
   "source": [
    "<h3>Test <b>preceding</b> and <b>succeeding</b> and <b>message_coder</h3>"
   ]
  },
  {
   "cell_type": "code",
   "execution_count": 6,
   "metadata": {},
   "outputs": [
    {
     "name": "stdout",
     "output_type": "stream",
     "text": [
      "gdkkn cnkkx ydaqz!\n",
      "ifmmp epmmz afcsb!\n"
     ]
    }
   ],
   "source": [
    "print(message_coder('hello dolly zebra!',preceding))# prints 'gdkkn cnkkx ydaqz!’\n",
    "\n",
    "print(message_coder('hello dolly zebra!',succeeding))# prints 'ifmmp epmmz afcsb!’\n"
   ]
  },
  {
   "cell_type": "markdown",
   "metadata": {},
   "source": [
    "<h1>Problem 2: Word Count</h2>"
   ]
  },
  {
   "cell_type": "code",
   "execution_count": 7,
   "metadata": {},
   "outputs": [],
   "source": [
    "def word_distribution(text_string,word_list=[]):\n",
    "    frequency_dict = dict()\n",
    "    \n",
    "    #Code goes here\n",
    "    split_str_list = text_string.split()\n",
    "    index = 0 \n",
    "    for words in split_str_list:\n",
    "        if not words[-1].isalpha():\n",
    "            split_str_list[index] = words[0:-1]\n",
    "        elif words == None:\n",
    "            split_str_list.remove(words)\n",
    "        index += 1\n",
    "    \n",
    "    for word in split_str_list:\n",
    "        lower_word = word.lower()\n",
    "        if word_list:\n",
    "            if word in word_list:\n",
    "                if lower_word in frequency_dict:\n",
    "                    frequency_dict[lower_word] += 1\n",
    "                else:\n",
    "                    frequency_dict[lower_word] = 1\n",
    "        else:\n",
    "            if lower_word in frequency_dict:\n",
    "                frequency_dict[lower_word] += 1\n",
    "            else:\n",
    "                frequency_dict[lower_word] = 1\n",
    "    for word in word_list:\n",
    "        if word not in split_str_list:\n",
    "            lower_word = word.lower()\n",
    "            frequency_dict[lower_word] = 0\n",
    "            \n",
    "    return frequency_dict"
   ]
  },
  {
   "cell_type": "markdown",
   "metadata": {},
   "source": [
    "<h3>Test <b>word_distribution</b></h3>\n"
   ]
  },
  {
   "cell_type": "code",
   "execution_count": 8,
   "metadata": {},
   "outputs": [
    {
     "name": "stdout",
     "output_type": "stream",
     "text": [
      "{'hello': 2, 'how': 1, 'are': 1, 'you': 2, 'please': 1, 'say': 1, 'if': 1, 'don’t': 1, 'love': 1, 'me': 1}\n"
     ]
    }
   ],
   "source": [
    "text_string = \"Hello. How are you? Please say hello if you don’t love me!\"\n",
    "print(word_distribution(text_string)) #should print {‘hello’: 2, ‘how’:1, ‘are’:1, ‘you’:2,’please’:1, “don’t”: 1 …}\n"
   ]
  },
  {
   "cell_type": "code",
   "execution_count": 9,
   "metadata": {},
   "outputs": [
    {
     "name": "stdout",
     "output_type": "stream",
     "text": [
      "{'i': 3, 'saw': 1, 'britain': 0}\n"
     ]
    }
   ],
   "source": [
    "text_string = 'I came, I saw, I conquered!'\n",
    "print(word_distribution(text_string,word_list=['I','saw','Britain'])) # prints {‘i’:3,’saw’:1,’britain':0}\n"
   ]
  },
  {
   "cell_type": "code",
   "execution_count": null,
   "metadata": {},
   "outputs": [],
   "source": []
  },
  {
   "cell_type": "code",
   "execution_count": null,
   "metadata": {},
   "outputs": [],
   "source": []
  }
 ],
 "metadata": {
  "kernelspec": {
   "display_name": "Python 3",
   "language": "python",
   "name": "python3"
  },
  "language_info": {
   "codemirror_mode": {
    "name": "ipython",
    "version": 3
   },
   "file_extension": ".py",
   "mimetype": "text/x-python",
   "name": "python",
   "nbconvert_exporter": "python",
   "pygments_lexer": "ipython3",
   "version": "3.8.3"
  }
 },
 "nbformat": 4,
 "nbformat_minor": 2
}
