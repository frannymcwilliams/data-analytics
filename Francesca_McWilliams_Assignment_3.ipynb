{
 "cells": [
  {
   "cell_type": "markdown",
   "metadata": {},
   "source": [
    "<h1>Scraping Fidelity.com</h1>\n",
    "In this assignment, you will scrape data from fidelity.com. The goal of the exercise is to get the latest sector performance data from the US markets, and to get the total market capitalization for each sector. \n",
    "\n",
    "The end result is to write a function: <i>get_us_sector_performance()</i> that will return a list of tuples. Each tuple should correspond to a sector and should contain the following data:\n",
    "<li>the sector name\n",
    "<li>the amount the sector has moved\n",
    "<li>the market capitalization of the sector\n",
    "<li>the market weight of the sector\n",
    "<li>a link to the fidelity page for that sector\n",
    "\n",
    "<p>\n",
    "The data should be sorted by decreasing order of market weight. I.e., the sector with the highest weight should be in the first tuple, etc."
   ]
  },
  {
   "cell_type": "markdown",
   "metadata": {},
   "source": [
    "<h3>Process</h3>\n",
    "<li>Get a list of sectors and the links to the sector detail pages from the url (see function)\n",
    "<li>Loop through the list and call the function <i>get_sector_change_and_market_cap(sector_page_link)</i> for each sector\n",
    "<li>Accumulate the name, the change, the capitalization, the weight and the link for each sector in output_list (see function)\n",
    "<li>Sort the list by market weight"
   ]
  },
  {
   "cell_type": "markdown",
   "metadata": {},
   "source": [
    "<b>Notes:</b>\n",
    "<li>Note that the market weight is a string with a % sign at the back. You will need to get rid of the % and convert the string into a float before you can sort it\n",
    "<li>Your starting data is the url listed below. You need to extract all data, including links to the sector pages, from the page at this url\n",
    "<li>To sort a list of tuples by an arbitrary element, use the example at the bottom of this notebook"
   ]
  },
  {
   "cell_type": "code",
   "execution_count": 2,
   "metadata": {},
   "outputs": [],
   "source": [
    "def get_us_sector_performance():\n",
    "    output_list = list()\n",
    "    output_tup = ()\n",
    "    import requests\n",
    "    from bs4 import BeautifulSoup\n",
    "    url = \"https://eresearch.fidelity.com/eresearch/goto/markets_sectors/landing.jhtml\"\n",
    "    response = requests.get(url)\n",
    "    if not response.status_code == 200:\n",
    "        return None\n",
    "    try:\n",
    "        results_page = BeautifulSoup(response.content,'lxml')\n",
    "        sectors = results_page.find_all('tr')\n",
    "        for sector in sectors:\n",
    "            try:\n",
    "                sector_name = sector.find('strong').get_text()\n",
    "                sector_link = \"https://eresearch.fidelity.com/\" + sector.find('a',class_=\"heading1\").get('href')\n",
    "                amnt_moved = get_sector_change_and_market_cap(sector_link)[0]\n",
    "                mrkt_cap = get_sector_change_and_market_cap(sector_link)[1]\n",
    "                mrkt_weight = get_sector_change_and_market_cap(sector_link)[2]\n",
    "            except:\n",
    "                sector_name = ''\n",
    "            if sector_name != '':\n",
    "                output_tup = sector_name +sector_link\n",
    "                output_list.append((sector_name,amnt_moved,mrkt_cap,mrkt_weight,sector_link))\n",
    "        output_list.sort(key=lambda k: k[3],reverse=True)\n",
    "        return output_list\n",
    "    except:\n",
    "        return None"
   ]
  },
  {
   "cell_type": "code",
   "execution_count": 1,
   "metadata": {},
   "outputs": [],
   "source": [
    "def get_sector_change_and_market_cap(sector_page_link):\n",
    "    span_vars = list()\n",
    "    import requests\n",
    "    from bs4 import BeautifulSoup\n",
    "    url = sector_page_link\n",
    "    response = requests.get(url)\n",
    "    if not response.status_code == 200:\n",
    "        return None\n",
    "    try:\n",
    "        results_page = BeautifulSoup(response.content,'lxml')\n",
    "        sectors = results_page.find_all('td')\n",
    "        count = 0\n",
    "        for sector in sectors:\n",
    "            span_vars.append(sector.find('span').get_text())\n",
    "            count += 1\n",
    "            if count > 2:\n",
    "                break\n",
    "    except:\n",
    "        return None\n",
    "    \n",
    "    if span_vars[0][0] == '+':\n",
    "        sector_change = float(span_vars[0][1:-1])\n",
    "    else:\n",
    "        sector_change = float(span_vars[0][:-1])\n",
    "    sector_market_cap = span_vars[1]\n",
    "    sector_market_weight = float(span_vars[2][:-1])\n",
    "    \n",
    "    return sector_change,sector_market_cap,sector_market_weight"
   ]
  },
  {
   "cell_type": "code",
   "execution_count": 3,
   "metadata": {},
   "outputs": [
    {
     "name": "stderr",
     "output_type": "stream",
     "text": [
      "/opt/anaconda3/lib/python3.8/site-packages/requests/__init__.py:89: RequestsDependencyWarning: urllib3 (1.26.7) or chardet (3.0.4) doesn't match a supported version!\n",
      "  warnings.warn(\"urllib3 ({}) or chardet ({}) doesn't match a supported \"\n"
     ]
    },
    {
     "data": {
      "text/plain": [
       "(-0.66, '$9.35T', 12.51)"
      ]
     },
     "execution_count": 3,
     "metadata": {},
     "output_type": "execute_result"
    }
   ],
   "source": [
    "#Test get_sector_change_and_market_cap()\n",
    "link = \"https://eresearch.fidelity.com/eresearch/markets_sectors/sectors/sectors_in_market.jhtml?tab=learn&sector=25\"\n",
    "get_sector_change_and_market_cap(link)\n",
    "#Should return (-0.40, $3.58T, 6.80)\n",
    "#Note that neither the -0.40, nor the 6.80, end with a %sign"
   ]
  },
  {
   "cell_type": "code",
   "execution_count": 4,
   "metadata": {},
   "outputs": [
    {
     "data": {
      "text/plain": [
       "\"\\n[('Telecommunication Services',\\n  0.21,\\n  '$1.74T',\\n  2.0,\\n  'https://eresearch.fidelity.com/eresearch/markets_sectors/sectors/sectors_in_market.jhtml?tab=learn&sector=50'),\\n ('Materials',\\n  0.22,\\n  '$1.95T',\\n  2.49,\\n  'https://eresearch.fidelity.com/eresearch/markets_sectors/sectors/sectors_in_market.jhtml?tab=learn&sector=15'),\\n ('Real Estate',\\n  -0.45,\\n  '$1.22T',\\n  2.7,\\n  'https://eresearch.fidelity.com/eresearch/markets_sectors/sectors/sectors_in_market.jhtml?tab=learn&sector=60'),\\n ('Utilities',\\n  -0.33,\\n  '$1.25T',\\n  2.86,\\n  'https://eresearch.fidelity.com/eresearch/markets_sectors/sectors/sectors_in_market.jhtml?tab=learn&sector=55'),\\n ('Energy',\\n  0.76,\\n  '$3.90T',\\n  5.83,\\n  'https://eresearch.fidelity.com/eresearch/markets_sectors/sectors/sectors_in_market.jhtml?tab=learn&sector=10'),\\n ('Consumer Staples',\\n  -0.32,\\n  '$3.58T',\\n  6.8,\\n  'https://eresearch.fidelity.com/eresearch/markets_sectors/sectors/sectors_in_market.jhtml?tab=learn&sector=30'),\\n ('Industrials',\\n  0.72,\\n  '$4.31T',\\n  9.83,\\n  'https://eresearch.fidelity.com/eresearch/markets_sectors/sectors/sectors_in_market.jhtml?tab=learn&sector=20'),\\n ('Consumer Discretionary',\\n  1.03,\\n  '$5.76T',\\n  12.9,\\n  'https://eresearch.fidelity.com/eresearch/markets_sectors/sectors/sectors_in_market.jhtml?tab=learn&sector=25'),\\n ('Financials',\\n  0.39,\\n  '$7.45T',\\n  13.71,\\n  'https://eresearch.fidelity.com/eresearch/markets_sectors/sectors/sectors_in_market.jhtml?tab=learn&sector=40'),\\n ('Health Care',\\n  0.76,\\n  '$5.70T',\\n  14.71,\\n  'https://eresearch.fidelity.com/eresearch/markets_sectors/sectors/sectors_in_market.jhtml?tab=learn&sector=35'),\\n ('Information Technology',\\n  0.81,\\n  '$9.84T',\\n  26.17,\\n  'https://eresearch.fidelity.com/eresearch/markets_sectors/sectors/sectors_in_market.jhtml?tab=learn&sector=45')]\\n  \\n\""
      ]
     },
     "execution_count": 4,
     "metadata": {},
     "output_type": "execute_result"
    }
   ],
   "source": [
    "#Test get_us_sector_performance()\n",
    "get_us_sector_performance()\n",
    "#Should return (example: obviously the results will vary over time!)\n",
    "\"\"\"\n",
    "[('Telecommunication Services',\n",
    "  0.21,\n",
    "  '$1.74T',\n",
    "  2.0,\n",
    "  'https://eresearch.fidelity.com/eresearch/markets_sectors/sectors/sectors_in_market.jhtml?tab=learn&sector=50'),\n",
    " ('Materials',\n",
    "  0.22,\n",
    "  '$1.95T',\n",
    "  2.49,\n",
    "  'https://eresearch.fidelity.com/eresearch/markets_sectors/sectors/sectors_in_market.jhtml?tab=learn&sector=15'),\n",
    " ('Real Estate',\n",
    "  -0.45,\n",
    "  '$1.22T',\n",
    "  2.7,\n",
    "  'https://eresearch.fidelity.com/eresearch/markets_sectors/sectors/sectors_in_market.jhtml?tab=learn&sector=60'),\n",
    " ('Utilities',\n",
    "  -0.33,\n",
    "  '$1.25T',\n",
    "  2.86,\n",
    "  'https://eresearch.fidelity.com/eresearch/markets_sectors/sectors/sectors_in_market.jhtml?tab=learn&sector=55'),\n",
    " ('Energy',\n",
    "  0.76,\n",
    "  '$3.90T',\n",
    "  5.83,\n",
    "  'https://eresearch.fidelity.com/eresearch/markets_sectors/sectors/sectors_in_market.jhtml?tab=learn&sector=10'),\n",
    " ('Consumer Staples',\n",
    "  -0.32,\n",
    "  '$3.58T',\n",
    "  6.8,\n",
    "  'https://eresearch.fidelity.com/eresearch/markets_sectors/sectors/sectors_in_market.jhtml?tab=learn&sector=30'),\n",
    " ('Industrials',\n",
    "  0.72,\n",
    "  '$4.31T',\n",
    "  9.83,\n",
    "  'https://eresearch.fidelity.com/eresearch/markets_sectors/sectors/sectors_in_market.jhtml?tab=learn&sector=20'),\n",
    " ('Consumer Discretionary',\n",
    "  1.03,\n",
    "  '$5.76T',\n",
    "  12.9,\n",
    "  'https://eresearch.fidelity.com/eresearch/markets_sectors/sectors/sectors_in_market.jhtml?tab=learn&sector=25'),\n",
    " ('Financials',\n",
    "  0.39,\n",
    "  '$7.45T',\n",
    "  13.71,\n",
    "  'https://eresearch.fidelity.com/eresearch/markets_sectors/sectors/sectors_in_market.jhtml?tab=learn&sector=40'),\n",
    " ('Health Care',\n",
    "  0.76,\n",
    "  '$5.70T',\n",
    "  14.71,\n",
    "  'https://eresearch.fidelity.com/eresearch/markets_sectors/sectors/sectors_in_market.jhtml?tab=learn&sector=35'),\n",
    " ('Information Technology',\n",
    "  0.81,\n",
    "  '$9.84T',\n",
    "  26.17,\n",
    "  'https://eresearch.fidelity.com/eresearch/markets_sectors/sectors/sectors_in_market.jhtml?tab=learn&sector=45')]\n",
    "  \n",
    "\"\"\""
   ]
  },
  {
   "cell_type": "markdown",
   "metadata": {},
   "source": [
    "<h3>Sorting</h3>"
   ]
  },
  {
   "cell_type": "code",
   "execution_count": null,
   "metadata": {},
   "outputs": [],
   "source": [
    "x = [('a',23.2,'b'),('c',17.4,'f'),('d',29.2,'z'),('e',1.74,'bb')]\n",
    "x.sort() #Sorts by the first element of the tuple\n",
    "x"
   ]
  },
  {
   "cell_type": "code",
   "execution_count": null,
   "metadata": {},
   "outputs": [],
   "source": [
    "x = [('a',23.2,'b'),('c',17.4,'f'),('d',29.2,'z'),('e',1.74,'bb')]\n",
    "x.sort(key=lambda k: k[1]) #Sorts by the element at position 1\n",
    "x"
   ]
  },
  {
   "cell_type": "code",
   "execution_count": null,
   "metadata": {},
   "outputs": [],
   "source": []
  }
 ],
 "metadata": {
  "kernelspec": {
   "display_name": "Python 3",
   "language": "python",
   "name": "python3"
  },
  "language_info": {
   "codemirror_mode": {
    "name": "ipython",
    "version": 3
   },
   "file_extension": ".py",
   "mimetype": "text/x-python",
   "name": "python",
   "nbconvert_exporter": "python",
   "pygments_lexer": "ipython3",
   "version": "3.8.3"
  }
 },
 "nbformat": 4,
 "nbformat_minor": 2
}
