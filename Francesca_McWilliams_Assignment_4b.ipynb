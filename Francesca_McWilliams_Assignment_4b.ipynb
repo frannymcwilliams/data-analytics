{
 "cells": [
  {
   "cell_type": "markdown",
   "metadata": {},
   "source": [
    "<h1>Problem 1: Factorials using numpy</h1>\n",
    "<li><b>prod</b> A numpy function that returns the product of all elements in an array\n",
    "<li><b>cumprod</b> A numpy function on an ndarray of size n that returns an array of size n where each element i is the product of all elements from 0 to i\n"
   ]
  },
  {
   "cell_type": "code",
   "execution_count": 1,
   "metadata": {},
   "outputs": [],
   "source": [
    "\"\"\"\n",
    "Replace pass with the code that uses ndarray, prod and cumprod \n",
    "to calculate the factorial of n\n",
    "\n",
    "The function should take an integer as an argument and return an integer\n",
    "\n",
    "\"\"\"\n",
    "def factorial(n):\n",
    "    import numpy as np\n",
    "    if n != 0:\n",
    "        ax = np.array(np.arange(1,n+1))\n",
    "        factorial = ax.prod()\n",
    "    else:\n",
    "        factorial = 1\n",
    "    return factorial"
   ]
  },
  {
   "cell_type": "code",
   "execution_count": 2,
   "metadata": {},
   "outputs": [],
   "source": [
    "\"\"\"\n",
    "Replace pass with the code that uses ndarray, prod and cumprod to \n",
    "calculate the factorials of all values from 1 to n\n",
    "\n",
    "The function should take an integer as an argument and return an ndarray\n",
    "of size n \n",
    "\n",
    "\"\"\"\n",
    "\n",
    "def all_factorials(n):\n",
    "    import numpy as np\n",
    "    if n != 0:\n",
    "        ax = np.array(np.arange(1,n+1))\n",
    "        all_fact = ax.cumprod()\n",
    "    else:\n",
    "        all_fact = np.array([1])\n",
    "    return all_fact"
   ]
  },
  {
   "cell_type": "markdown",
   "metadata": {},
   "source": [
    "<h1>Problem 2: Percent changes</h1>\n",
    "Write a function that constructs an ndarray from data in a file and \n",
    "returns a 1-period percent change on an ndarray after removing any nan values. Your function must make use of the following functions:\n",
    "<li>np.genfromtxt: https://docs.scipy.org/doc/numpy-1.13.0/reference/generated/numpy.genfromtxt.html\n",
    "<li>np.diff: https://docs.scipy.org/doc/numpy-1.13.0/reference/generated/numpy.diff.html\n",
    "<li>np.isnan: https://docs.scipy.org/doc/numpy-1.13.0/reference/generated/numpy.isnan.html\n",
    "\n",
    "<p>Test your function out using the attached apple.csv file. Your function can assume that the file structure is (date,price)\n",
    "\n",
    "<p>Note that percent change is defined as (p(t)-p(t-1))/p(t-1)\n",
    "\n",
    "<b>Example:</b><br>\n",
    "If the data array is: np.array([1,2,np.NaN,4,8,np.NAN])\n",
    "<br>\n",
    "The output array should be<br>\n",
    "array([ 1.,  1.,  1.])\n"
   ]
  },
  {
   "cell_type": "code",
   "execution_count": 3,
   "metadata": {},
   "outputs": [],
   "source": [
    "def get_pct_changes(file_name):\n",
    "    import numpy as np\n",
    "    import pandas as pd\n",
    "    \n",
    "    ax = np.genfromtxt(file_name, delimiter=\",\")\n",
    "    bx = ax[np.logical_not(np.isnan(ax))]\n",
    "    cx = np.diff(bx)\n",
    "    dx = cx/bx[:-1]\n",
    "    \n",
    "    return dx"
   ]
  },
  {
   "cell_type": "markdown",
   "metadata": {},
   "source": [
    "<h1>Problem 3: Pandas Grouping</h1>\n",
    "Write a program that reads timeseries pricing data from a file into a pandas dataframe and then groups the data as follows:\n",
    "<li>Adds a column, one-day percent change to the file \n",
    "<li>Groups the data into four categories:\n",
    "<ul>\n",
    "<li>\"High+\" if the percent change is greater than 2.5%\n",
    "<li>\"Low+\" if the percent change is positive and less than or equal to 2.5% \n",
    "<li>\"Low-\" if the percent change is negative but greater than or equal to -2.5%\n",
    "<li>\"High-\" if the percent change is less than -2.5%\n",
    "</ul>\n",
    "<li>Report the size and the mean of each of the groups\n",
    "\n"
   ]
  },
  {
   "cell_type": "code",
   "execution_count": 77,
   "metadata": {},
   "outputs": [],
   "source": [
    "datafile = \"apple.csv\"\n",
    "\n",
    "def pct_change_size_mean(file_name):\n",
    "    import pandas as pd\n",
    "    import numpy as np\n",
    "\n",
    "    df = pd.read_csv(file_name,na_values='null')\n",
    "    df.dropna(inplace=True)\n",
    "    pct = get_pct_changes(file_name)\n",
    "    pct = np.insert(pct, 0, np.nan, axis=0)\n",
    "    df[\"Percent Change\"] = pct\n",
    "    \n",
    "    hp = df.groupby(df[\"Percent Change\"]>0.025)\n",
    "    hp_size = hp.count().iloc[1]['Percent Change']\n",
    "    hp_mean = hp.mean().iloc[1]['Percent Change']\n",
    "    lp = df.groupby((df[\"Percent Change\"]<=0.025) & (df[\"Percent Change\"]>0))\n",
    "    lp_size = lp.count().iloc[1]['Percent Change']\n",
    "    lp_mean = lp.mean().iloc[1]['Percent Change']\n",
    "    ln = df.groupby((df[\"Percent Change\"]>=-0.025) & (df[\"Percent Change\"]<0))\n",
    "    ln_size = ln.count().iloc[1]['Percent Change']\n",
    "    ln_mean = ln.mean().iloc[1]['Percent Change']\n",
    "    hn = df.groupby(df[\"Percent Change\"]<-0.025)\n",
    "    hn_size = hn.count().iloc[1]['Percent Change']\n",
    "    hn_mean = hn.mean().iloc[1]['Percent Change']\n",
    "    \n",
    "    print(\"High+ size:\",hp_size,\"High+ mean:\",hp_mean)\n",
    "    print(\"Low+ size:\",lp_size,\"Low+ mean:\",lp_mean)\n",
    "    print(\"Low- size:\",ln_size,\"Low- mean:\",ln_mean)\n",
    "    print(\"High- size:\",hn_size,\"High- mean:\",hn_mean)"
   ]
  },
  {
   "cell_type": "code",
   "execution_count": 78,
   "metadata": {},
   "outputs": [
    {
     "name": "stdout",
     "output_type": "stream",
     "text": [
      "High+ size: 1391 High+ mean: 0.04570533164639686\n",
      "Low+ size: 3170 Low+ mean: 0.011019948936819556\n",
      "Low- size: 3140 Low- mean: -0.011171281041633415\n",
      "High- size: 1210 High- mean: -0.044219773517657296\n"
     ]
    }
   ],
   "source": [
    "pct_change_size_mean(datafile)"
   ]
  },
  {
   "cell_type": "code",
   "execution_count": null,
   "metadata": {},
   "outputs": [],
   "source": []
  }
 ],
 "metadata": {
  "kernelspec": {
   "display_name": "Python 3",
   "language": "python",
   "name": "python3"
  },
  "language_info": {
   "codemirror_mode": {
    "name": "ipython",
    "version": 3
   },
   "file_extension": ".py",
   "mimetype": "text/x-python",
   "name": "python",
   "nbconvert_exporter": "python",
   "pygments_lexer": "ipython3",
   "version": "3.8.3"
  }
 },
 "nbformat": 4,
 "nbformat_minor": 2
}
